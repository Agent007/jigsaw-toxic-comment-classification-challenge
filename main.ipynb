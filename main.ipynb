{
 "cells": [
  {
   "cell_type": "code",
   "execution_count": 1,
   "metadata": {},
   "outputs": [],
   "source": [
    "import os\n",
    "\n",
    "os.environ['CUDA_VISIBLE_DEVICES'] = '0'"
   ]
  },
  {
   "cell_type": "code",
   "execution_count": 2,
   "metadata": {},
   "outputs": [],
   "source": [
    "import pandas as pd\n",
    "\n",
    "train = pd.read_csv('train.csv')\n",
    "\n",
    "train = train.sample(frac=0.02)  # 157975 original total, so let's prototype models with a fraction of that\n",
    "validation_fraction = 0.1  # change to 1% for training on complete training set"
   ]
  },
  {
   "cell_type": "code",
   "execution_count": 3,
   "metadata": {},
   "outputs": [],
   "source": [
    "test = pd.read_csv('test.csv')\n",
    "submission = pd.read_csv('sample_submission.csv')\n",
    "\n",
    "X_train = train[\"comment_text\"].fillna(\"fillna\").values\n",
    "y_train = train[[\"toxic\", \"severe_toxic\", \"obscene\", \"threat\", \"insult\", \"identity_hate\"]].values\n",
    "X_test = test[\"comment_text\"].fillna(\"fillna\").values"
   ]
  },
  {
   "cell_type": "code",
   "execution_count": 4,
   "metadata": {},
   "outputs": [
    {
     "name": "stderr",
     "output_type": "stream",
     "text": [
      "/opt/anaconda3/lib/python3.6/site-packages/h5py/__init__.py:36: FutureWarning: Conversion of the second argument of issubdtype from `float` to `np.floating` is deprecated. In future, it will be treated as `np.float64 == np.dtype(float).type`.\n",
      "  from ._conv import register_converters as _register_converters\n",
      "Using TensorFlow backend.\n"
     ]
    }
   ],
   "source": [
    "from keras.preprocessing import text, sequence\n",
    "\n",
    "max_features = 32768  # 30000\n",
    "maxlen = 128  # 100\n",
    "embed_size = 300  # should match embedding file\n",
    "\n",
    "tokenizer = text.Tokenizer(num_words=max_features)\n",
    "tokenizer.fit_on_texts(list(X_train) + list(X_test))\n",
    "X_train = tokenizer.texts_to_sequences(X_train)\n",
    "X_test = tokenizer.texts_to_sequences(X_test)\n",
    "x_train = sequence.pad_sequences(X_train, maxlen=maxlen)\n",
    "x_test = sequence.pad_sequences(X_test, maxlen=maxlen)"
   ]
  },
  {
   "cell_type": "code",
   "execution_count": 5,
   "metadata": {},
   "outputs": [],
   "source": [
    "import numpy as np\n",
    "\n",
    "EMBEDDING_FILE = 'crawl-300d-2M.vec'  # fasttext\n",
    "\n",
    "def get_coefs(word, *arr): \n",
    "    return word, np.asarray(arr, dtype='float32')\n",
    "\n",
    "embeddings_index = dict(get_coefs(*file.rstrip().rsplit(' ')) for file in open(EMBEDDING_FILE))\n",
    "\n",
    "word_index = tokenizer.word_index  # len(word_index) == 394787\n",
    "nb_words = min(max_features, len(word_index))\n",
    "embedding_matrix = np.zeros((nb_words, embed_size))\n",
    "for word, i in word_index.items():\n",
    "    if i >= max_features: \n",
    "        break\n",
    "    embedding_vector = embeddings_index.get(word)\n",
    "    if embedding_vector is not None: \n",
    "        embedding_matrix[i] = embedding_vector"
   ]
  },
  {
   "cell_type": "code",
   "execution_count": 6,
   "metadata": {},
   "outputs": [],
   "source": [
    "from keras.models import Model\n",
    "from keras.layers import Input, Dense, Embedding, SpatialDropout1D, concatenate\n",
    "from keras.layers import GRU, Bidirectional, GlobalAveragePooling1D, GlobalMaxPooling1D\n",
    "\n",
    "def build_model():\n",
    "    inp = Input(shape=(maxlen, ))\n",
    "    x = Embedding(nb_words, embed_size, weights=[embedding_matrix])(inp)\n",
    "    # x = SpatialDropout1D(0.2)(x)\n",
    "    rnn_size = 128\n",
    "    x = Bidirectional(GRU(rnn_size, return_sequences=True))(x)\n",
    "    avg_pool = GlobalAveragePooling1D()(x)\n",
    "    max_pool = GlobalMaxPooling1D()(x)\n",
    "    conc = concatenate([avg_pool, max_pool])\n",
    "    multiclass_label_count = 6\n",
    "    outp = Dense(multiclass_label_count, activation=\"sigmoid\")(conc)\n",
    "    \n",
    "    model = Model(inputs=inp, outputs=outp)\n",
    "    model.compile(loss='binary_crossentropy',\n",
    "                  optimizer='nadam',\n",
    "                  metrics=['accuracy'])\n",
    "\n",
    "    return model\n",
    "\n",
    "model = build_model()"
   ]
  },
  {
   "cell_type": "code",
   "execution_count": 7,
   "metadata": {},
   "outputs": [
    {
     "name": "stdout",
     "output_type": "stream",
     "text": [
      "Train on 2871 samples, validate on 320 samples\n",
      "Epoch 1/8\n",
      "2871/2871 [==============================] - 21s 7ms/step - loss: 0.1230 - acc: 0.9602 - val_loss: 0.0676 - val_acc: 0.9776\n",
      "\n",
      " ROC-AUC - epoch: 1 - score: 0.948702 \n",
      "\n",
      "Epoch 2/8\n",
      "2871/2871 [==============================] - 19s 7ms/step - loss: 0.0451 - acc: 0.9841 - val_loss: 0.0625 - val_acc: 0.9792\n",
      "\n",
      " ROC-AUC - epoch: 2 - score: 0.959741 \n",
      "\n",
      "Epoch 3/8\n",
      "2871/2871 [==============================] - 19s 7ms/step - loss: 0.0290 - acc: 0.9898 - val_loss: 0.0605 - val_acc: 0.9797\n",
      "\n",
      " ROC-AUC - epoch: 3 - score: 0.972063 \n",
      "\n",
      "Epoch 4/8\n",
      "2871/2871 [==============================] - 19s 7ms/step - loss: 0.0187 - acc: 0.9932 - val_loss: 0.0632 - val_acc: 0.9766\n",
      "\n",
      " ROC-AUC - epoch: 4 - score: 0.973127 \n",
      "\n",
      "Epoch 5/8\n",
      "2871/2871 [==============================] - 19s 7ms/step - loss: 0.0127 - acc: 0.9962 - val_loss: 0.0803 - val_acc: 0.9760\n",
      "\n",
      " ROC-AUC - epoch: 5 - score: 0.969131 \n",
      "\n",
      "Epoch 6/8\n",
      "2871/2871 [==============================] - 19s 7ms/step - loss: 0.0083 - acc: 0.9980 - val_loss: 0.0658 - val_acc: 0.9786\n",
      "\n",
      " ROC-AUC - epoch: 6 - score: 0.976354 \n",
      "\n",
      "\n",
      "Epoch 00006: ReduceLROnPlateau reducing learning rate to 0.00020000000949949026.\n",
      "Epoch 7/8\n",
      "2871/2871 [==============================] - 19s 7ms/step - loss: 0.0054 - acc: 0.9990 - val_loss: 0.0709 - val_acc: 0.9792\n",
      "\n",
      " ROC-AUC - epoch: 7 - score: 0.973915 \n",
      "\n",
      "Epoch 8/8\n",
      "2871/2871 [==============================] - 19s 7ms/step - loss: 0.0046 - acc: 0.9991 - val_loss: 0.0736 - val_acc: 0.9781\n",
      "\n",
      " ROC-AUC - epoch: 8 - score: 0.973270 \n",
      "\n",
      "\n",
      "Epoch 00008: ReduceLROnPlateau reducing learning rate to 2.0000000949949027e-05.\n"
     ]
    },
    {
     "data": {
      "text/plain": [
       "<keras.callbacks.History at 0x7f1f9e7eaeb8>"
      ]
     },
     "execution_count": 7,
     "metadata": {},
     "output_type": "execute_result"
    }
   ],
   "source": [
    "from sklearn.model_selection import train_test_split\n",
    "from sklearn.metrics import roc_auc_score\n",
    "\n",
    "from keras.callbacks import Callback, ModelCheckpoint, ReduceLROnPlateau\n",
    "\n",
    "\n",
    "batch_size = 32\n",
    "epochs = 8\n",
    "\n",
    "X_tra, X_val, y_tra, y_val = train_test_split(x_train, y_train, test_size=validation_fraction)\n",
    "\n",
    "\n",
    "class RocAucEvaluation(Callback):\n",
    "    def __init__(self, validation_data=(), interval=1):\n",
    "        super(Callback, self).__init__()\n",
    "\n",
    "        self.interval = interval\n",
    "        self.X_val, self.y_val = validation_data\n",
    "\n",
    "    def on_epoch_end(self, epoch, logs={}):\n",
    "        if epoch % self.interval == 0:\n",
    "            y_pred = self.model.predict(self.X_val, verbose=0)\n",
    "            score = roc_auc_score(self.y_val, y_pred)\n",
    "            print(\"\\n ROC-AUC - epoch: %d - score: %.6f \\n\" % (epoch + 1, score))\n",
    "\n",
    "            \n",
    "RocAuc = RocAucEvaluation(validation_data=(X_val, y_val), interval=1)\n",
    "checkpoint = ModelCheckpoint(\"weights.{epoch:02d}-{val_loss:.4f}.hdf5\", \n",
    "                             verbose=1, \n",
    "                             save_best_only=True, \n",
    "                             save_weights_only=True)\n",
    "lr_reduction = ReduceLROnPlateau(patience=1, verbose=1)\n",
    "\n",
    "history = model.fit(X_tra, y_tra, \n",
    "                    batch_size=batch_size, \n",
    "                    epochs=epochs, \n",
    "                    validation_data=(X_val, y_val),\n",
    "                    callbacks=[RocAuc, \n",
    "                               #checkpoint, \n",
    "                               lr_reduction], \n",
    "                    verbose=1)"
   ]
  },
  {
   "cell_type": "code",
   "execution_count": null,
   "metadata": {},
   "outputs": [],
   "source": [
    "y_pred = model.predict(x_test, batch_size=1024)\n",
    "submission[[\"toxic\", \"severe_toxic\", \"obscene\", \"threat\", \"insult\", \"identity_hate\"]] = y_pred\n",
    "submission.to_csv('submission.csv', index=False)"
   ]
  }
 ],
 "metadata": {
  "kernelspec": {
   "display_name": "Python 3",
   "language": "python",
   "name": "python3"
  },
  "language_info": {
   "codemirror_mode": {
    "name": "ipython",
    "version": 3
   },
   "file_extension": ".py",
   "mimetype": "text/x-python",
   "name": "python",
   "nbconvert_exporter": "python",
   "pygments_lexer": "ipython3",
   "version": "3.6.3"
  }
 },
 "nbformat": 4,
 "nbformat_minor": 2
}
