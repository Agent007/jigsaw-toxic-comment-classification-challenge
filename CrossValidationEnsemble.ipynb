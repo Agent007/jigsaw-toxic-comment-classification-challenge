{
 "cells": [
  {
   "cell_type": "code",
   "execution_count": 1,
   "metadata": {},
   "outputs": [],
   "source": [
    "import os\n",
    "\n",
    "os.environ['CUDA_VISIBLE_DEVICES'] = '1'"
   ]
  },
  {
   "cell_type": "code",
   "execution_count": 2,
   "metadata": {},
   "outputs": [],
   "source": [
    "import pandas as pd\n",
    "\n",
    "train = pd.read_csv('train.csv')\n",
    "\n",
    "# train = train.sample(frac=0.1)  # 157975 original total, so let's prototype models with a fraction of that\n",
    "validation_fraction = 0.1  # change to 1% for training on complete training set"
   ]
  },
  {
   "cell_type": "code",
   "execution_count": 3,
   "metadata": {},
   "outputs": [],
   "source": [
    "test = pd.read_csv('test.csv')\n",
    "submission = pd.read_csv('sample_submission.csv')\n",
    "\n",
    "train[\"comment_text\"].fillna(\"fillna\")\n",
    "test[\"comment_text\"].fillna(\"fillna\")\n",
    "\n",
    "X_train = train[\"comment_text\"].str.lower()\n",
    "y_train = train[[\"toxic\", \"severe_toxic\", \"obscene\", \"threat\", \"insult\", \"identity_hate\"]].values\n",
    "\n",
    "X_test = test[\"comment_text\"].str.lower()"
   ]
  },
  {
   "cell_type": "code",
   "execution_count": 4,
   "metadata": {},
   "outputs": [
    {
     "name": "stderr",
     "output_type": "stream",
     "text": [
      "/opt/anaconda3/lib/python3.6/site-packages/h5py/__init__.py:36: FutureWarning: Conversion of the second argument of issubdtype from `float` to `np.floating` is deprecated. In future, it will be treated as `np.float64 == np.dtype(float).type`.\n",
      "  from ._conv import register_converters as _register_converters\n",
      "Using TensorFlow backend.\n"
     ]
    },
    {
     "name": "stdout",
     "output_type": "stream",
     "text": [
      "CPU times: user 27.4 s, sys: 286 ms, total: 27.7 s\n",
      "Wall time: 27.7 s\n"
     ]
    }
   ],
   "source": [
    "%%time\n",
    "\n",
    "from keras.preprocessing import text, sequence\n",
    "\n",
    "max_features = None  # 30000\n",
    "embed_size = 300  # should match embedding file\n",
    "\n",
    "tokenizer = text.Tokenizer(num_words=max_features)\n",
    "all_comments = list(X_train) + list(X_test)\n",
    "tokenizer.fit_on_texts(all_comments)\n",
    "X_train_tokenized = tokenizer.texts_to_sequences(X_train)\n",
    "X_test_tokenized = tokenizer.texts_to_sequences(X_test)"
   ]
  },
  {
   "cell_type": "code",
   "execution_count": 5,
   "metadata": {},
   "outputs": [],
   "source": [
    "max_sequence_length = 300  # 150  # 128  # 100, 200, 256 worsened validation AUC score  # 100\n",
    "\n",
    "X_train_padded = sequence.pad_sequences(X_train_tokenized, maxlen=max_sequence_length)\n",
    "X_test_padded = sequence.pad_sequences(X_test_tokenized, maxlen=max_sequence_length)"
   ]
  },
  {
   "cell_type": "code",
   "execution_count": 6,
   "metadata": {},
   "outputs": [],
   "source": [
    "import numpy as np\n",
    "\n",
    "word_index = tokenizer.word_index  # len(word_index) == 394787\n",
    "word_count = min(max_features, len(word_index)) if max_features else len(word_index)\n",
    "# embedding_matrix = np.random.uniform(-1.0, 1.0, (nb_words, embed_size))  # in case you don't want to use pre-trained embeddings"
   ]
  },
  {
   "cell_type": "code",
   "execution_count": 7,
   "metadata": {},
   "outputs": [
    {
     "name": "stdout",
     "output_type": "stream",
     "text": [
      "CPU times: user 378 ms, sys: 12.3 ms, total: 390 ms\n",
      "Wall time: 408 ms\n"
     ]
    }
   ],
   "source": [
    "%%time\n",
    "\n",
    "import numpy as np\n",
    "import bcolz\n",
    "\n",
    "\n",
    "def process_fasttext_line(word, *arr): \n",
    "    return word, np.asarray(arr, dtype='float32')\n",
    "\n",
    "def load_embeddings(matrix, embeddings_index, word_index):\n",
    "    for word, i in word_index.items():\n",
    "        if max_features and i >= max_features:\n",
    "            continue\n",
    "        embedding_vector = embeddings_index.get(word)\n",
    "        if embedding_vector is not None:\n",
    "            matrix[i] = embedding_vector\n",
    "    return matrix\n",
    "\n",
    "def build_embedding_matrix(matrix, bcolz_rootdir, embeddings_filename, line_processing_function, word_index):\n",
    "    try:\n",
    "        matrix = bcolz.open(rootdir=bcolz_rootdir)\n",
    "    except FileNotFoundError:\n",
    "        embeddings_index = dict(line_processing_function(*line.rstrip().rsplit()) for line in open(embeddings_filename))\n",
    "        matrix = load_embeddings(matrix, embeddings_index, word_index)\n",
    "        matrix = bcolz.carray(matrix, rootdir=bcolz_rootdir)\n",
    "        matrix.flush()\n",
    "    return matrix\n",
    "\n",
    "\n",
    "fasttext_embedding_matrix = np.zeros((word_count + 1, embed_size))\n",
    "fasttext_embedding_matrix = build_embedding_matrix(fasttext_embedding_matrix, \"crawl-300d-2M.bcolz\", \"crawl-300d-2M.vec\", process_fasttext_line, word_index)\n",
    "\n",
    "\n",
    "def process_numberbatch_line(key, *arr):\n",
    "    word = key.split('/')[-1].replace('_', ' ')\n",
    "    return word, np.asarray(arr, dtype='float32')\n",
    "\n",
    "\n",
    "numberbatch_embedding_matrix = np.zeros((word_count + 1, embed_size))\n",
    "numberbatch_embedding_matrix = build_embedding_matrix(numberbatch_embedding_matrix, \"numberbatch-17.06.bcolz\", \"numberbatch-17.06.txt\", process_numberbatch_line, word_index)\n",
    "\n",
    "def process_glove_line(*arr):\n",
    "    word = arr[0]\n",
    "    coefficients = arr[1:]\n",
    "    if arr[1] == '.':\n",
    "        if arr[4] == '.':\n",
    "            word = \". . . . .\"\n",
    "            coefficients = arr[5:]\n",
    "        elif arr[3] == '.':\n",
    "            word = \". . . .\"\n",
    "            coefficients = arr[4:]\n",
    "        elif arr[2] == '.':\n",
    "            word = \". . .\"\n",
    "            coefficients = arr[3:]\n",
    "        else:\n",
    "            word = \". .\"\n",
    "            coefficients = arr[2:]\n",
    "    elif arr[1] == \"name@domain.com\" or arr[1] == \"Killerseats.com\" or arr[1] == \"mylot.com\" or arr[1] == \"Amazon.com\":\n",
    "        word = arr[0] + ' ' + arr[1]\n",
    "        coefficients = arr[2:]\n",
    "    try:\n",
    "        return word, np.asarray(coefficients, dtype='float32')\n",
    "    except ValueError:\n",
    "        print(arr)\n",
    "\n",
    "glove_embedding_matrix = np.zeros((word_count + 1, embed_size))\n",
    "glove_embedding_matrix = build_embedding_matrix(glove_embedding_matrix, \"glove.840B.300d.bcolz\", \"glove.840B.300d.txt\", process_glove_line, word_index)"
   ]
  },
  {
   "cell_type": "code",
   "execution_count": 8,
   "metadata": {},
   "outputs": [
    {
     "name": "stdout",
     "output_type": "stream",
     "text": [
      "WARNING:tensorflow:From /opt/anaconda3/lib/python3.6/site-packages/tensorflow/python/util/deprecation.py:497: calling conv1d (from tensorflow.python.ops.nn_ops) with data_format=NHWC is deprecated and will be removed in a future version.\n",
      "Instructions for updating:\n",
      "`NHWC` for data_format is deprecated, use `NWC` instead\n"
     ]
    }
   ],
   "source": [
    "from keras.models import Model, Sequential\n",
    "from keras.layers import Activation, BatchNormalization, Bidirectional, concatenate, Conv1D, CuDNNGRU, Dense, Dropout, Embedding, Flatten, Input, GlobalAveragePooling1D, GlobalMaxPooling1D, GRU, K, SpatialDropout1D\n",
    "from keras.optimizers import Adam, Nadam\n",
    "# from keras.regularizers import l2\n",
    "# from keras.constraints import maxnorm\n",
    "\n",
    "# from qrnn import QRNN\n",
    "# from attention import AttentionWithContext\n",
    "from capsnet import Capsule\n",
    "\n",
    "def build_model(max_sequence_length, word_count, embed_size, embeddings, spatial_dropout=0.28, dropout=0.25):\n",
    "    i = Input(shape=(max_sequence_length, ))\n",
    "    fasttext = Embedding(word_count + 1, embed_size, weights=[embeddings[\"fasttext\"][:word_count + 2, ]], trainable=False)(i)\n",
    "    numberbatch = Embedding(word_count + 1, embed_size, weights=[embeddings[\"numberbatch\"][:word_count + 2, ]], trainable=False)(i)\n",
    "    # glove = Embedding(word_count + 1, embed_size, weights=[embeddings[\"glove\"][:word_count + 2, ]], trainable=False)(i)\n",
    "    fasttext = SpatialDropout1D(spatial_dropout)(fasttext)\n",
    "    numberbatch = SpatialDropout1D(spatial_dropout)(numberbatch)\n",
    "    # glove = SpatialDropout1D(spatial_dropout)(glove)\n",
    "    rnn_size = 128  # max_sequence_length  # 140\n",
    "    # x = Bidirectional(CuDNNGRU(rnn_size, return_sequences=True))(x)  # 2nd bidirectional layer didn't help with training subsample\n",
    "    # x = QRNN(rnn_size, window_size=7, return_sequences=True)(x)\n",
    "    # x = Bidirectional(CuDNNGRU(rnn_size, return_sequences=True))(x)\n",
    "    # x = Bidirectional(GRU(rnn_size, return_sequences=True,dropout=0.1,recurrent_dropout=0.1))(x)\n",
    "    # x = Bidirectional(GRU(64, return_sequences=True,dropout=0.3,recurrent_dropout=0.3))(x)\n",
    "    # x = Bidirectional(GRU(rnn_size, activation='relu', return_sequences=True, dropout=dropout, recurrent_dropout=dropout))(x)\n",
    "    fasttext = Bidirectional(GRU(rnn_size, activation='relu', return_sequences=True, dropout=dropout, recurrent_dropout=dropout))(fasttext)\n",
    "    numberbatch = Bidirectional(GRU(rnn_size, activation='relu', return_sequences=True, dropout=dropout, recurrent_dropout=dropout))(numberbatch)\n",
    "    # glove = Bidirectional(GRU(rnn_size, activation='relu', return_sequences=True, dropout=dropout, recurrent_dropout=dropout))(glove)\n",
    "    fasttext = Capsule()(fasttext)\n",
    "    numberbatch = Capsule()(numberbatch)\n",
    "    # glove = Capsule()(glove)\n",
    "    # attention = AttentionWithContext()(x)\n",
    "    x = concatenate([\n",
    "        fasttext, \n",
    "        numberbatch, \n",
    "        # glove\n",
    "    ])\n",
    "    x = Flatten()(x)\n",
    "    d = Dropout(dropout)(x)\n",
    "    multiclass_label_count = 6\n",
    "    out = Dense(multiclass_label_count, activation=\"sigmoid\")(d)\n",
    "    model = Model(inputs=i, outputs=out)\n",
    "    optimizer = \"adam\"  # Nadam(lr=1e-3)  # 'nadam'  # Nadam(lr=1e-5)\n",
    "    model.compile(loss='binary_crossentropy',\n",
    "                  optimizer=optimizer,\n",
    "                  metrics=['accuracy'])\n",
    "    return model\n",
    "\n",
    "# del model\n",
    "embeddings = { \"fasttext\" : fasttext_embedding_matrix, \n",
    "              \"numberbatch\" : numberbatch_embedding_matrix,\n",
    "              # \"glove\" : glove_embedding_matrix\n",
    "             }\n",
    "model = build_model(max_sequence_length, word_count, embed_size, embeddings)\n",
    "# del models\n",
    "# models = [fasttext_model, numberbatch_model]"
   ]
  },
  {
   "cell_type": "code",
   "execution_count": null,
   "metadata": {},
   "outputs": [],
   "source": [
    "from sklearn.model_selection import KFold, train_test_split\n",
    "from sklearn.metrics import roc_auc_score\n",
    "\n",
    "from keras.callbacks import Callback, ModelCheckpoint, ReduceLROnPlateau\n",
    "\n",
    "\n",
    "# X_train_split, X_val, y_train_split, y_val = train_test_split(X_train_padded, y_train, test_size=validation_fraction)\n",
    "\n",
    "\n",
    "class RocAucEvaluation(Callback):\n",
    "    \"\"\"https://www.kaggle.com/demesgal/lstm-glove-lr-decrease-bn-cv-lb-0-047/comments\"\"\"\n",
    "    \n",
    "    def __init__(self, validation_data=(), max_epoch=20, cross_validation_fold=None):\n",
    "        super(Callback, self).__init__()\n",
    "\n",
    "        self.stopped_epoch = max_epoch\n",
    "        self.best = 0.0\n",
    "        self.X_val, self.y_val = validation_data\n",
    "        self.y_pred = np.zeros(self.y_val.shape)\n",
    "        self.cross_validation_fold = cross_validation_fold  # current fold number (integer)\n",
    "\n",
    "    def on_epoch_end(self, epoch, logs={}):\n",
    "        y_pred = self.model.predict(self.X_val, verbose=1)\n",
    "        \"\"\"Important lines\"\"\"\n",
    "        current = roc_auc_score(self.y_val, y_pred)\n",
    "        logs['val_auc'] = current\n",
    "\n",
    "        if current > self.best:  # save model\n",
    "            self.best = current\n",
    "            self.y_pred = y_pred\n",
    "            self.stopped_epoch = epoch + 1\n",
    "            filename = \"weights.{epoch:02d}-{val_auc:.4f}.hdf5\".format(epoch=(epoch + 1), val_auc=current)\n",
    "            if self.cross_validation_fold is not None:\n",
    "                filename = \"weights.{fold:02d}-{epoch:02d}-{val_auc:.4f}.hdf5\".format(fold=self.cross_validation_fold, epoch=(epoch + 1), val_auc=current)  \n",
    "            print(\"saving \" + filename)\n",
    "            self.model.save_weights(filename, overwrite=True)\n",
    "\n",
    "        print(\"val_auc: {:.4f}\".format(current))"
   ]
  },
  {
   "cell_type": "code",
   "execution_count": 24,
   "metadata": {},
   "outputs": [
    {
     "name": "stdout",
     "output_type": "stream",
     "text": [
      "CPU times: user 5min 25s, sys: 54.6 s, total: 6min 20s\n",
      "Wall time: 6min 15s\n"
     ]
    }
   ],
   "source": [
    "%%time\n",
    "\n",
    "y_pred = []\n",
    "best_epochs_aucs = [\"13-0.9904\", \"09-0.9912\", \"15-0.9917\", \"11-0.9891\", \"13-0.9870\", \"06-0.9890\"]\n",
    "for i, string in enumerate(best_epochs_aucs):\n",
    "    filename = \"weights.0\" + str(i) + \"-\" + string + \".hdf5\"\n",
    "    model.load_weights(filename)\n",
    "    y_pred.append(model.predict(X_test_padded, batch_size=1024))"
   ]
  },
  {
   "cell_type": "code",
   "execution_count": 25,
   "metadata": {},
   "outputs": [],
   "source": [
    "avg = np.mean(y_pred, axis=0, dtype=np.float64)"
   ]
  },
  {
   "cell_type": "code",
   "execution_count": 16,
   "metadata": {},
   "outputs": [
    {
     "data": {
      "text/plain": [
       "array([[9.98136640e-01, 5.54723285e-01, 9.88775641e-01, 2.58751627e-01,\n",
       "        9.69367057e-01, 7.22821534e-01],\n",
       "       [3.85550862e-04, 3.13692194e-05, 1.13252223e-04, 4.93097951e-06,\n",
       "        6.81916908e-05, 3.07749438e-05],\n",
       "       [2.87464583e-04, 6.40841508e-05, 1.59963225e-04, 9.45015040e-06,\n",
       "        7.99759846e-05, 2.88790961e-05],\n",
       "       [1.60294645e-04, 2.77619270e-05, 1.13022357e-04, 6.64743420e-05,\n",
       "        7.52192796e-05, 1.68690364e-05],\n",
       "       [4.89587826e-03, 1.10038109e-04, 8.88845309e-04, 9.46112568e-05,\n",
       "        1.62319113e-04, 1.99636927e-05]])"
      ]
     },
     "execution_count": 16,
     "metadata": {},
     "output_type": "execute_result"
    }
   ],
   "source": [
    "avg[:5]"
   ]
  },
  {
   "cell_type": "code",
   "execution_count": 19,
   "metadata": {},
   "outputs": [
    {
     "data": {
      "text/plain": [
       "[array([[9.9721247e-01, 5.6057703e-01, 9.8593444e-01, 2.6531163e-01,\n",
       "         9.6396595e-01, 6.5808964e-01],\n",
       "        [3.9361967e-04, 3.0636242e-05, 6.7308465e-05, 2.7412323e-06,\n",
       "         9.2376627e-05, 2.8745797e-05],\n",
       "        [2.4020483e-04, 6.5258209e-05, 1.2697655e-04, 8.2108581e-06,\n",
       "         6.4704713e-05, 3.8468428e-05],\n",
       "        ...,\n",
       "        [4.0285816e-04, 1.9132201e-05, 4.6927566e-04, 9.0065969e-06,\n",
       "         1.4896499e-04, 2.6274722e-05],\n",
       "        [1.5903384e-03, 1.3613405e-04, 6.7367509e-04, 2.2098635e-04,\n",
       "         7.0680992e-04, 6.3180458e-03],\n",
       "        [9.8556203e-01, 2.1041648e-02, 9.2519379e-01, 2.7988341e-03,\n",
       "         7.1517563e-01, 4.5923088e-03]], dtype=float32),\n",
       " array([[9.98364151e-01, 5.15149117e-01, 9.89853084e-01, 2.63934106e-01,\n",
       "         9.69017029e-01, 7.06804812e-01],\n",
       "        [5.54008700e-04, 3.33567841e-05, 1.20732504e-04, 7.68083646e-06,\n",
       "         8.33393278e-05, 3.39221151e-05],\n",
       "        [3.33472010e-04, 5.28167693e-05, 2.12035302e-04, 1.32755113e-05,\n",
       "         9.67599844e-05, 3.41752857e-05],\n",
       "        ...,\n",
       "        [4.03164566e-04, 2.56467792e-05, 2.58509215e-04, 1.65683869e-05,\n",
       "         1.08957895e-04, 3.94691524e-05],\n",
       "        [1.59233087e-03, 5.48332391e-05, 3.16789781e-04, 1.00062665e-04,\n",
       "         2.66917516e-04, 1.26191822e-03],\n",
       "        [9.88061786e-01, 3.89098972e-02, 8.92597854e-01, 7.45937554e-03,\n",
       "         8.46542835e-01, 8.21115356e-03]], dtype=float32),\n",
       " array([[9.98633921e-01, 4.25277501e-01, 9.87229645e-01, 1.62657574e-01,\n",
       "         9.69791055e-01, 8.27134013e-01],\n",
       "        [3.30594310e-04, 2.24623054e-05, 9.85647639e-05, 2.10879989e-06,\n",
       "         3.92191541e-05, 2.64407718e-05],\n",
       "        [1.57954739e-04, 5.09295933e-05, 1.12705449e-04, 7.27019324e-06,\n",
       "         3.84734558e-05, 1.54565951e-05],\n",
       "        ...,\n",
       "        [1.42930352e-04, 2.09775753e-05, 1.72738990e-04, 6.06183676e-06,\n",
       "         3.49644506e-05, 1.77927159e-05],\n",
       "        [1.93136628e-03, 7.68863465e-05, 4.38834861e-04, 1.07450134e-04,\n",
       "         5.73457568e-04, 1.71269767e-03],\n",
       "        [9.80199158e-01, 2.31715534e-02, 8.94939899e-01, 2.49923463e-03,\n",
       "         6.85872734e-01, 1.91752287e-03]], dtype=float32),\n",
       " array([[9.98336017e-01, 7.17889488e-01, 9.92085397e-01, 3.43103200e-01,\n",
       "         9.74694192e-01, 6.99257672e-01],\n",
       "        [2.63980764e-04, 3.90215464e-05, 1.66403159e-04, 7.19304944e-06,\n",
       "         5.78316540e-05, 3.39910912e-05],\n",
       "        [4.18226758e-04, 8.73320314e-05, 1.88135600e-04, 9.04403896e-06,\n",
       "         1.19965785e-04, 2.74160757e-05],\n",
       "        ...,\n",
       "        [5.09573845e-04, 2.73348614e-05, 4.07763146e-04, 1.18057233e-05,\n",
       "         1.16493007e-04, 4.79437731e-05],\n",
       "        [9.70189052e-04, 9.71832269e-05, 4.10540233e-04, 2.15957873e-04,\n",
       "         4.02953039e-04, 3.50616500e-03],\n",
       "        [9.88018155e-01, 2.57689506e-02, 9.19754684e-01, 3.53743532e-03,\n",
       "         6.35313690e-01, 2.19652569e-03]], dtype=float32)]"
      ]
     },
     "execution_count": 19,
     "metadata": {},
     "output_type": "execute_result"
    }
   ],
   "source": [
    "y_pred"
   ]
  },
  {
   "cell_type": "code",
   "execution_count": 26,
   "metadata": {},
   "outputs": [],
   "source": [
    "submission[[\"toxic\", \"severe_toxic\", \"obscene\", \"threat\", \"insult\", \"identity_hate\"]] = avg\n",
    "submission.to_csv('submission.csv', index=False)"
   ]
  },
  {
   "cell_type": "code",
   "execution_count": null,
   "metadata": {},
   "outputs": [],
   "source": [
    "! kaggle competitions submit -c jigsaw-toxic-comment-classification-challenge -f submission.csv -m \"(5 + 8/16) of 10 fold cross validation average ensemble\""
   ]
  }
 ],
 "metadata": {
  "kernelspec": {
   "display_name": "Python 3",
   "language": "python",
   "name": "python3"
  },
  "language_info": {
   "codemirror_mode": {
    "name": "ipython",
    "version": 3
   },
   "file_extension": ".py",
   "mimetype": "text/x-python",
   "name": "python",
   "nbconvert_exporter": "python",
   "pygments_lexer": "ipython3",
   "version": "3.6.3"
  }
 },
 "nbformat": 4,
 "nbformat_minor": 2
}
